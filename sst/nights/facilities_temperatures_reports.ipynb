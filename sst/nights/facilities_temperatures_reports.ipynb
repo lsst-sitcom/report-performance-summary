{
 "cells": [
  {
   "cell_type": "code",
   "execution_count": null,
   "metadata": {},
   "outputs": [],
   "source": [
    "day_obs = 20241017"
   ]
  },
  {
   "cell_type": "markdown",
   "metadata": {},
   "source": [
    "# Facilities Temperatures Reports"
   ]
  },
  {
   "cell_type": "code",
   "execution_count": null,
   "metadata": {},
   "outputs": [],
   "source": [
    "import asyncio\n",
    "import matplotlib.pyplot as plt\n",
    "import numpy as np\n",
    "import os\n",
    "import pandas as pd\n",
    "import sys\n",
    "import time\n",
    "import warnings\n",
    "\n",
    "from argparse import Namespace\n",
    "from astropy.time import Time, TimeDelta\n",
    "from scipy.fft import fft, fftfreq\n",
    "from scipy.signal import detrend, get_window, welch\n",
    "from lsst.summit.utils.blockUtils import BlockParser\n",
    "from lsst.summit.utils.efdUtils import makeEfdClient, getEfdData, getDayObsStartTime\n",
    "from lsst_efd_client.efd_helper import merge_packed_time_series\n",
    "\n",
    "\n",
    "# Ignore the many warning messages from ``merge_packed_time_series``\n",
    "warnings.simplefilter(action=\"ignore\", category=FutureWarning)\n",
    "\n",
    "# Create an EFD client\n",
    "client = makeEfdClient()\n",
    "\n",
    "# Create a folder for plots\n",
    "os.makedirs(\"./plots\", exist_ok=True)\n",
    "\n",
    "# Constants used in the notebook\n",
    "ess_weather_station_sal_index = 301"
   ]
  },
  {
   "cell_type": "markdown",
   "metadata": {},
   "source": [
    "## Query the data"
   ]
  },
  {
   "cell_type": "code",
   "execution_count": null,
   "metadata": {},
   "outputs": [],
   "source": [
    "start_time = getDayObsStartTime(day_obs)\n",
    "end_time = getDayObsStartTime(day_obs + 1)\n",
    "\n",
    "print(\n",
    "    f\"\\nQuery data for {day_obs}\"\n",
    "    f\"\\n  starts at {start_time.isot} and\"\n",
    "    f\"\\n  ends at {end_time.isot}\\n\"\n",
    ")"
   ]
  },
  {
   "cell_type": "markdown",
   "metadata": {},
   "source": [
    "The cell bellow contains data that comes from the Weather Station Tower."
   ]
  },
  {
   "cell_type": "code",
   "execution_count": null,
   "metadata": {},
   "outputs": [],
   "source": [
    "df_outside = getEfdData(\n",
    "    client=client,\n",
    "    topic=\"lsst.sal.ESS.temperature\",\n",
    "    columns=[\"temperatureItem0\", \"salIndex\"],\n",
    "    begin=start_time,\n",
    "    end=end_time,\n",
    ")\n",
    "\n",
    "# Select the data from the weather station using the salIndex\n",
    "mask = df_outside.salIndex == ess_weather_station_sal_index\n",
    "df_outside = df_outside[mask]\n",
    "\n",
    "# We do not need the salIndex anymore\n",
    "df_outside = df_outside.drop(columns=['salIndex'])\n",
    "\n",
    "# Get the rolling min/mean/max values for the temperature\n",
    "df_outside = df_outside.rename(columns={\"temperatureItem0\": \"temperature\"})\n",
    "df_outside = df_outside.resample(\"1min\").agg(\n",
    "    {\"temperature\": [\"min\", \"mean\", \"max\"]}\n",
    ")\n",
    "df_outside.columns = df_outside.columns.droplevel(0)"
   ]
  },
  {
   "cell_type": "markdown",
   "metadata": {},
   "source": [
    "MTMount contains multiple temperature sensors near the telescope.  \n",
    "For the sake of simplicity, we will monitor the temperature sensors near the \n",
    "Top End Assembly for now."
   ]
  },
  {
   "cell_type": "code",
   "execution_count": null,
   "metadata": {},
   "outputs": [],
   "source": [
    "df_inside = getEfdData(\n",
    "    client=client,\n",
    "    topic=\"lsst.sal.MTMount.topEndChiller\",\n",
    "    columns=[\"ambientTemperature\"],\n",
    "    begin=start_time,\n",
    "    end=end_time,\n",
    ")\n",
    "\n",
    "# Get the rolling min/mean/max values for the temperature\n",
    "df_inside = df_inside.rename(columns={\"ambientTemperature\": \"temperature\"})\n",
    "df_inside = df_inside.resample('1T').agg({\n",
    "    'temperature': ['mean', 'min', 'max']\n",
    "})\n",
    "df_inside.columns = df_inside.columns.droplevel(0)"
   ]
  },
  {
   "cell_type": "markdown",
   "metadata": {},
   "source": [
    "(add more information about Glycol cold)"
   ]
  },
  {
   "cell_type": "code",
   "execution_count": null,
   "metadata": {},
   "outputs": [],
   "source": [
    "df_glycol_cold = getEfdData(\n",
    "    client=client,\n",
    "    topic=\"lsst.sal.MTMount.cooling\",\n",
    "    columns=[\"glycolTemperaturePier0101\"],\n",
    "    begin=start_time,\n",
    "    end=end_time,\n",
    ")\n",
    "\n",
    "df_glycol_cold = df_glycol_cold.rename(columns={\"glycolTemperaturePier0101\": \"temperature\"})\n",
    "df_glycol_cold = df_glycol_cold.resample('1T').agg({\n",
    "    'temperature': ['mean', 'min', 'max']\n",
    "})\n",
    "df_glycol_cold.columns = df_glycol_cold.columns.droplevel(0)"
   ]
  },
  {
   "cell_type": "markdown",
   "metadata": {},
   "source": [
    "(add more information about Glycol General)"
   ]
  },
  {
   "cell_type": "code",
   "execution_count": null,
   "metadata": {},
   "outputs": [],
   "source": [
    "df_glycol_general = getEfdData(\n",
    "    client=client,\n",
    "    topic=\"lsst.sal.MTMount.generalPurposeGlycolWater\",\n",
    "    columns=[\"glycolTemperaturePier0001\"],\n",
    "    begin=start_time,\n",
    "    end=end_time,\n",
    ")\n",
    "\n",
    "# Get the rolling min/mean/max values for the temperature\n",
    "df_glycol_general = df_glycol_general.rename(columns={\"glycolTemperaturePier0001\": \"temperature\"})\n",
    "df_glycol_general = df_glycol_general.resample('1T').agg({\n",
    "    'temperature': ['mean', 'min', 'max']\n",
    "})\n",
    "df_glycol_general.columns = df_glycol_general.columns.droplevel(0)"
   ]
  },
  {
   "cell_type": "markdown",
   "metadata": {},
   "source": [
    "## Temperatures Plots \n",
    "\n",
    "For each plot we have a solid line representing the rolling average per minute. \n",
    "In addition, the figure below contains a shaded region per color showing the min/max \n",
    "values per telemetry. However, since the min/max values do not stray far from the \n",
    "average, they are almost imperceptible."
   ]
  },
  {
   "cell_type": "code",
   "execution_count": null,
   "metadata": {},
   "outputs": [],
   "source": [
    "fig, ax = plt.subplots(figsize=(10, 5))\n",
    "ax.plot(df_outside.index, df_outside[\"mean\"], label='Outside Temp', color='cornflowerblue')\n",
    "ax.fill_between(df_outside.index, df_outside[\"min\"], df_outside[\"max\"], color='cornflowerblue', alpha=0.5)\n",
    "\n",
    "ax.plot(df_inside.index, df_inside[\"mean\"], label='Inside Temp', color='darkorange')\n",
    "ax.fill_between(df_inside.index, df_inside[\"min\"], df_inside[\"max\"], color='darkorange', alpha=0.5)\n",
    "\n",
    "ax.plot(df_glycol_cold.index, df_glycol_cold[\"mean\"], label='Glycol Cold Temp', color='green')\n",
    "ax.fill_between(df_glycol_cold.index, df_glycol_cold[\"min\"], df_glycol_cold[\"max\"], color='green', alpha=0.5)\n",
    "\n",
    "ax.plot(df_glycol_general.index, df_glycol_general[\"mean\"], label='Glycol General Temp', color='red')\n",
    "ax.fill_between(df_glycol_general.index, df_glycol_general[\"min\"], df_glycol_general[\"max\"], color='red', alpha=0.5)\n",
    "\n",
    "fig.suptitle(f\"Temperature for {day_obs}\")\n",
    "fig.autofmt_xdate()\n",
    "\n",
    "ax.set_xlabel('Time [UTC]')\n",
    "ax.set_ylabel('Temperature (ºC)')\n",
    "ax.set_title(\"Temperature at the Outside, Inside, and Glycol Water\")\n",
    "\n",
    "ax.legend()\n",
    "ax.grid(\":\", alpha=0.25)\n",
    "ax.xaxis.set_major_formatter(plt.matplotlib.dates.DateFormatter('%H:%M'))\n",
    "\n",
    "plt.savefig(f\"./plots/temperature_outside_{day_obs}.png\")\n",
    "plt.show()"
   ]
  },
  {
   "cell_type": "markdown",
   "metadata": {},
   "source": [
    "## Hourly statistics\n",
    "\n",
    "Here we have a table per topic with the min/mean/max value every hour. "
   ]
  },
  {
   "cell_type": "code",
   "execution_count": null,
   "metadata": {},
   "outputs": [],
   "source": [
    "# Resample each data frame to hourly frequency\n",
    "df_outside_hourly = df_outside.resample('H').nearest()\n",
    "\n",
    "# Change the format of the index to include only year, month, day, hour, and minute\n",
    "df_outside_hourly.index = df_outside_hourly.index.strftime('%Y-%m-%d %H:%M')\n",
    "\n",
    "print(df_outside_hourly)"
   ]
  },
  {
   "cell_type": "code",
   "execution_count": null,
   "metadata": {},
   "outputs": [],
   "source": [
    "# Resample each data frame to hourly frequency\n",
    "df_inside_hourly = df_inside.resample('H').nearest()\n",
    "\n",
    "# Change the format of the index to include only year, month, day, hour, and minute\n",
    "df_inside_hourly.index = df_inside_hourly.index.strftime('%Y-%m-%d %H:%M')\n",
    "\n",
    "# Resample each data frame to hourly frequency\n",
    "print(df_inside_hourly)"
   ]
  },
  {
   "cell_type": "code",
   "execution_count": null,
   "metadata": {},
   "outputs": [],
   "source": [
    "# Resample each data frame to hourly frequency\n",
    "df_glycol_cold_hourly = df_glycol_cold.resample('H').nearest()\n",
    "\n",
    "# Change the format of the index to include only year, month, day, hour, and minute\n",
    "df_glycol_cold_hourly.index = df_glycol_cold_hourly.index.strftime('%Y-%m-%d %H:%M')\n",
    "\n",
    "print(df_glycol_cold_hourly)"
   ]
  },
  {
   "cell_type": "code",
   "execution_count": null,
   "metadata": {},
   "outputs": [],
   "source": [
    "# Resample each data frame to hourly frequency\n",
    "df_glycol_general_hourly = df_glycol_general.resample('H').nearest()\n",
    "\n",
    "# Change the format of the index to include only year, month, day, hour, and minute\n",
    "df_glycol_general_hourly.index = df_glycol_general_hourly.index.strftime('%Y-%m-%d %H:%M')\n",
    "\n",
    "print(df_glycol_general_hourly)"
   ]
  },
  {
   "cell_type": "code",
   "execution_count": null,
   "metadata": {},
   "outputs": [],
   "source": []
  }
 ],
 "metadata": {
  "kernelspec": {
   "display_name": "Python 3 (ipykernel)",
   "language": "python",
   "name": "python3"
  },
  "language_info": {
   "codemirror_mode": {
    "name": "ipython",
    "version": 3
   },
   "file_extension": ".py",
   "mimetype": "text/x-python",
   "name": "python",
   "nbconvert_exporter": "python",
   "pygments_lexer": "ipython3",
   "version": "3.11.9"
  }
 },
 "nbformat": 4,
 "nbformat_minor": 4
}
