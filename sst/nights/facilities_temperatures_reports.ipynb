{
 "cells": [
  {
   "cell_type": "code",
   "execution_count": null,
   "metadata": {},
   "outputs": [],
   "source": [
    "day_obs = \"20241017\""
   ]
  },
  {
   "cell_type": "markdown",
   "metadata": {},
   "source": [
    "# Facilities Temperatures Reports"
   ]
  },
  {
   "cell_type": "code",
   "execution_count": null,
   "metadata": {},
   "outputs": [],
   "source": [
    "import matplotlib.pyplot as plt\n",
    "import matplotlib.gridspec as gridspec\n",
    "import numpy as np\n",
    "import pandas as pd\n",
    "import time\n",
    "import warnings\n",
    "\n",
    "from lsst.summit.utils.blockUtils import BlockParser\n",
    "from lsst.summit.utils.efdUtils import makeEfdClient, getEfdData, getDayObsStartTime\n",
    "from lsst.ts.xml.sal_enums import State\n",
    "from lsst_efd_client.efd_helper import merge_packed_time_series\n",
    "\n",
    "\n",
    "# Ignore the many warning messages from ``merge_packed_time_series``\n",
    "warnings.simplefilter(action=\"ignore\", category=FutureWarning)\n",
    "\n",
    "# Create an EFD client\n",
    "client = makeEfdClient()\n",
    "\n",
    "# Create a folder for plots\n",
    "os.makedirs(\"./plots\", exist_ok=True)\n",
    "\n",
    "# Constants used in the notebook\n",
    "ess_weather_station_sal_index = 301"
   ]
  },
  {
   "cell_type": "markdown",
   "metadata": {},
   "source": [
    "## Query the data"
   ]
  },
  {
   "cell_type": "code",
   "execution_count": null,
   "metadata": {},
   "outputs": [],
   "source": [
    "day_obs = int(day_obs)\n",
    "start_time = getDayObsStartTime(day_obs)\n",
    "end_time = getDayObsStartTime(day_obs + 1)\n",
    "\n",
    "print(\n",
    "    f\"\\nQuery data for {day_obs}\"\n",
    "    f\"\\n  starts at {start_time.isot} and\"\n",
    "    f\"\\n  ends at {end_time.isot}\\n\"\n",
    ")"
   ]
  },
  {
   "cell_type": "markdown",
   "metadata": {},
   "source": [
    "The cell bellow contains data that comes from the Weather Station Tower."
   ]
  },
  {
   "cell_type": "code",
   "execution_count": null,
   "metadata": {},
   "outputs": [],
   "source": [
    "df_outside = getEfdData(\n",
    "    client=client,\n",
    "    topic=\"lsst.sal.ESS.temperature\",\n",
    "    columns=[\"temperatureItem0\", \"salIndex\"],\n",
    "    begin=start_time,\n",
    "    end=end_time,\n",
    ")\n",
    "\n",
    "# Select the data from the weather station using the salIndex\n",
    "mask = df_outside.salIndex == ess_weather_station_sal_index\n",
    "df_outside = df_outside[mask]\n",
    "\n",
    "# We do not need the salIndex anymore\n",
    "df_outside = df_outside.drop(columns=['salIndex'])\n",
    "\n",
    "# Get the rolling min/mean/max values for the temperature\n",
    "df_outside = df_outside.rename(columns={\"temperatureItem0\": \"temperature\"})\n",
    "df_outside = df_outside.resample(\"1min\").agg(\n",
    "    {\"temperature\": [\"min\", \"mean\", \"max\"]}\n",
    ")\n",
    "df_outside.columns = df_outside.columns.droplevel(0)"
   ]
  },
  {
   "cell_type": "markdown",
   "metadata": {},
   "source": [
    "MTMount contains multiple temperature sensors near the telescope.  \n",
    "For the sake of simplicity, we will monitor the temperature sensors near the \n",
    "Top End Assembly for now."
   ]
  },
  {
   "cell_type": "code",
   "execution_count": null,
   "metadata": {},
   "outputs": [],
   "source": [
    "df_inside = getEfdData(\n",
    "    client=client,\n",
    "    topic=\"lsst.sal.MTMount.topEndChiller\",\n",
    "    columns=[\"ambientTemperature\"],\n",
    "    begin=start_time,\n",
    "    end=end_time,\n",
    ")\n",
    "\n",
    "# Get the rolling min/mean/max values for the temperature\n",
    "df_inside = df_inside.rename(columns={\"ambientTemperature\": \"temperature\"})\n",
    "df_inside = df_inside.resample('1T').agg({\n",
    "    'temperature': ['mean', 'min', 'max']\n",
    "})\n",
    "df_inside.columns = df_inside.columns.droplevel(0)"
   ]
  },
  {
   "cell_type": "markdown",
   "metadata": {},
   "source": [
    "(add more information about Glycol cold)"
   ]
  },
  {
   "cell_type": "code",
   "execution_count": null,
   "metadata": {},
   "outputs": [],
   "source": [
    "df_glycol_cold = getEfdData(\n",
    "    client=client,\n",
    "    topic=\"lsst.sal.MTMount.cooling\",\n",
    "    columns=[\"glycolTemperaturePier0101\"],\n",
    "    begin=start_time,\n",
    "    end=end_time,\n",
    ")\n",
    "\n",
    "df_glycol_cold = df_glycol_cold.rename(columns={\"glycolTemperaturePier0101\": \"temperature\"})\n",
    "df_glycol_cold = df_glycol_cold.resample('1T').agg({\n",
    "    'temperature': ['mean', 'min', 'max']\n",
    "})\n",
    "df_glycol_cold.columns = df_glycol_cold.columns.droplevel(0)"
   ]
  },
  {
   "cell_type": "markdown",
   "metadata": {},
   "source": [
    "(add more information about Glycol General)"
   ]
  },
  {
   "cell_type": "code",
   "execution_count": null,
   "metadata": {},
   "outputs": [],
   "source": [
    "df_glycol_general = getEfdData(\n",
    "    client=client,\n",
    "    topic=\"lsst.sal.MTMount.generalPurposeGlycolWater\",\n",
    "    columns=[\"glycolTemperaturePier0001\"],\n",
    "    begin=start_time,\n",
    "    end=end_time,\n",
    ")\n",
    "\n",
    "# Get the rolling min/mean/max values for the temperature\n",
    "df_glycol_general = df_glycol_general.rename(columns={\"glycolTemperaturePier0001\": \"temperature\"})\n",
    "df_glycol_general = df_glycol_general.resample('1T').agg({\n",
    "    'temperature': ['mean', 'min', 'max']\n",
    "})\n",
    "df_glycol_general.columns = df_glycol_general.columns.droplevel(0)"
   ]
  },
  {
   "cell_type": "code",
   "execution_count": null,
   "metadata": {},
   "outputs": [],
   "source": [
    "df_mtmount = getEfdData(\n",
    "    client=client,\n",
    "    topic=\"lsst.sal.MTMount.logevent_summaryState\",\n",
    "    columns=[\"summaryState\"],\n",
    "    begin=start_time,\n",
    "    end=end_time,\n",
    ")"
   ]
  },
  {
   "cell_type": "markdown",
   "metadata": {},
   "source": [
    "## Temperatures Plots \n",
    "\n",
    "For each plot we have a solid line representing the rolling average per minute. \n",
    "In addition, the figure below contains a shaded region per color showing the min/max \n",
    "values per telemetry. However, since the min/max values do not stray far from the \n",
    "average, they are almost imperceptible.\n",
    "\n",
    "The letters at the top of the plot represent the MTMount summary state:\n",
    "* O for Offline\n",
    "* S for StandBy\n",
    "* D for Disabled\n",
    "* E for Enabled\n",
    "* F for Fault\n",
    "\n",
    "The display of state transitions is tricky because they usually happen in a\n",
    "short period of time. "
   ]
  },
  {
   "cell_type": "code",
   "execution_count": null,
   "metadata": {},
   "outputs": [],
   "source": [
    "%matplotlib inline\n",
    "fig, ax = plt.subplots(figsize=(20, 6))\n",
    "\n",
    "ax.plot(\n",
    "    df_outside.index,\n",
    "    df_outside[\"mean\"],\n",
    "    label='Outside Temp',\n",
    "    color='cornflowerblue'\n",
    ")\n",
    "ax.fill_between(\n",
    "    df_outside.index,\n",
    "    df_outside[\"min\"],\n",
    "    df_outside[\"max\"],\n",
    "    color='cornflowerblue',\n",
    "    alpha=0.5\n",
    ")\n",
    "\n",
    "ax.plot(\n",
    "    df_inside.index,\n",
    "    df_inside[\"mean\"],\n",
    "    label='Inside Temp',\n",
    "    color='darkorange'\n",
    ")\n",
    "ax.fill_between(\n",
    "    df_inside.index,\n",
    "    df_inside[\"min\"],\n",
    "    df_inside[\"max\"],\n",
    "    color='darkorange',\n",
    "    alpha=0.5\n",
    ")\n",
    "\n",
    "ax.plot(\n",
    "    df_glycol_cold.index,\n",
    "    df_glycol_cold[\"mean\"],\n",
    "    label='Glycol Cold Temp',\n",
    "    color='green'\n",
    ")\n",
    "ax.fill_between(\n",
    "    df_glycol_cold.index,\n",
    "    df_glycol_cold[\"min\"],\n",
    "    df_glycol_cold[\"max\"],\n",
    "    color='green',\n",
    "    alpha=0.5\n",
    ")\n",
    "\n",
    "ax.plot(\n",
    "    df_glycol_general.index,\n",
    "    df_glycol_general[\"mean\"],\n",
    "    label='Glycol General Temp',\n",
    "    color='red'\n",
    ")\n",
    "ax.fill_between(\n",
    "    df_glycol_general.index,\n",
    "    df_glycol_general[\"min\"],\n",
    "    df_glycol_general[\"max\"],\n",
    "    color='red',\n",
    "    alpha=0.5\n",
    ")\n",
    "\n",
    "colors = {\n",
    "    \"ENABLED\": \"forestgreen\",\n",
    "    \"DISABLED\": \"royalblue\",\n",
    "    \"FAULT\": \"firebrick\",\n",
    "    \"STANDBY\": \"darkgoldenrod\",\n",
    "    \"OFFLINE\": \"gray\"\n",
    "}\n",
    "\n",
    "heights = {\n",
    "    \"ENABLED\": 0.15,\n",
    "    \"DISABLED\": 0.12,\n",
    "    \"FAULT\": 0.06,\n",
    "    \"STANDBY\": 0.09,\n",
    "    \"OFFLINE\": 0.03\n",
    "}\n",
    "\n",
    "fig.suptitle(f\"Temperature for {day_obs}\")\n",
    "fig.autofmt_xdate()\n",
    "\n",
    "ax.set_title(\"Temperature at the Outside, Inside, and Glycol Water\")\n",
    "\n",
    "ax.set_xlabel('Time [UTC]')\n",
    "ax.set_ylabel('Temperature (ºC)')\n",
    "\n",
    "ax.legend()\n",
    "ax.grid(\":\", alpha=0.25)\n",
    "ax.xaxis.set_major_formatter(plt.matplotlib.dates.DateFormatter('%H:%M'))\n",
    "\n",
    "ax2 = ax.twinx()\n",
    "ax2.scatter(df_mtmount.index, df_mtmount[\"summaryState\"], marker='|')\n",
    "\n",
    "def number_to_name(number):\n",
    "    return State(number).name\n",
    "\n",
    "ax2.set_yticks([state.value for state in State])\n",
    "ax2.set_yticklabels([number_to_name(i)[0] for i in ax2.get_yticks()])\n",
    "ax2.set_ylabel(\"MTMount Summary State\")\n",
    "\n",
    "plt.savefig(f\"./plots/temperature_outside_{day_obs}.png\")\n",
    "plt.show()"
   ]
  },
  {
   "cell_type": "markdown",
   "metadata": {},
   "source": [
    "## Hourly statistics\n",
    "\n",
    "Here we have a table per topic with the min/mean/max value every hour. "
   ]
  },
  {
   "cell_type": "code",
   "execution_count": null,
   "metadata": {},
   "outputs": [],
   "source": [
    "# Resample each data frame to hourly frequency\n",
    "df_outside_hourly = df_outside.resample('H').nearest()\n",
    "\n",
    "# Change the format of the index to include only year, month, day, hour, and minute\n",
    "df_outside_hourly.index = df_outside_hourly.index.strftime('%Y-%m-%d %H:%M')\n",
    "\n",
    "print(df_outside_hourly)"
   ]
  },
  {
   "cell_type": "code",
   "execution_count": null,
   "metadata": {},
   "outputs": [],
   "source": [
    "# Resample each data frame to hourly frequency\n",
    "df_inside_hourly = df_inside.resample('H').nearest()\n",
    "\n",
    "# Change the format of the index to include only year, month, day, hour, and minute\n",
    "df_inside_hourly.index = df_inside_hourly.index.strftime('%Y-%m-%d %H:%M')\n",
    "\n",
    "# Resample each data frame to hourly frequency\n",
    "print(df_inside_hourly)"
   ]
  },
  {
   "cell_type": "code",
   "execution_count": null,
   "metadata": {},
   "outputs": [],
   "source": [
    "# Resample each data frame to hourly frequency\n",
    "df_glycol_cold_hourly = df_glycol_cold.resample('H').nearest()\n",
    "\n",
    "# Change the format of the index to include only year, month, day, hour, and minute\n",
    "df_glycol_cold_hourly.index = df_glycol_cold_hourly.index.strftime('%Y-%m-%d %H:%M')\n",
    "\n",
    "print(df_glycol_cold_hourly)"
   ]
  },
  {
   "cell_type": "code",
   "execution_count": null,
   "metadata": {},
   "outputs": [],
   "source": [
    "# Resample each data frame to hourly frequency\n",
    "df_glycol_general_hourly = df_glycol_general.resample('H').nearest()\n",
    "\n",
    "# Change the format of the index to include only year, month, day, hour, and minute\n",
    "df_glycol_general_hourly.index = df_glycol_general_hourly.index.strftime('%Y-%m-%d %H:%M')\n",
    "\n",
    "print(df_glycol_general_hourly)"
   ]
  },
  {
   "cell_type": "code",
   "execution_count": null,
   "metadata": {},
   "outputs": [],
   "source": []
  }
 ],
 "metadata": {
  "kernelspec": {
   "display_name": "Python 3 (ipykernel)",
   "language": "python",
   "name": "python3"
  },
  "language_info": {
   "codemirror_mode": {
    "name": "ipython",
    "version": 3
   },
   "file_extension": ".py",
   "mimetype": "text/x-python",
   "name": "python",
   "nbconvert_exporter": "python",
   "pygments_lexer": "ipython3",
   "version": "3.11.9"
  }
 },
 "nbformat": 4,
 "nbformat_minor": 4
}
